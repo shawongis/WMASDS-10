{
  "cells": [
    {
      "cell_type": "markdown",
      "metadata": {
        "id": "view-in-github",
        "colab_type": "text"
      },
      "source": [
        "<a href=\"https://colab.research.google.com/github/shawongis/WMASDS-10/blob/main/1st_Class.ipynb\" target=\"_parent\"><img src=\"https://colab.research.google.com/assets/colab-badge.svg\" alt=\"Open In Colab\"/></a>"
      ]
    },
    {
      "cell_type": "code",
      "execution_count": null,
      "id": "3d8005a4",
      "metadata": {
        "id": "3d8005a4"
      },
      "outputs": [],
      "source": [
        "a = 5\n",
        "b=5.5\n",
        "c=\"5.5\"\n",
        "d=5==5.5"
      ]
    },
    {
      "cell_type": "code",
      "execution_count": null,
      "id": "4d523e2f",
      "metadata": {
        "id": "4d523e2f",
        "outputId": "6bf756f7-5412-4b84-b787-4436d1f7aab6"
      },
      "outputs": [
        {
          "name": "stdout",
          "output_type": "stream",
          "text": [
            "<class 'int'>\n"
          ]
        }
      ],
      "source": [
        "print(type(a))"
      ]
    },
    {
      "cell_type": "code",
      "execution_count": null,
      "id": "1e9add96",
      "metadata": {
        "id": "1e9add96",
        "outputId": "90b1283e-7819-4958-cf6d-328b4428ca7a"
      },
      "outputs": [
        {
          "name": "stdout",
          "output_type": "stream",
          "text": [
            "<class 'float'>\n"
          ]
        }
      ],
      "source": [
        "print(type(b))"
      ]
    },
    {
      "cell_type": "code",
      "execution_count": null,
      "id": "4486ca03",
      "metadata": {
        "id": "4486ca03",
        "outputId": "64a0b6a9-1d30-4bae-ecaf-61ace652cb44"
      },
      "outputs": [
        {
          "name": "stdout",
          "output_type": "stream",
          "text": [
            "<class 'str'>\n"
          ]
        }
      ],
      "source": [
        "print(type(c))"
      ]
    },
    {
      "cell_type": "code",
      "execution_count": null,
      "id": "348908af",
      "metadata": {
        "id": "348908af",
        "outputId": "46b31326-2d47-4ec7-9760-f2a0d60066fa"
      },
      "outputs": [
        {
          "name": "stdout",
          "output_type": "stream",
          "text": [
            "<class 'bool'>\n"
          ]
        }
      ],
      "source": [
        "print(type(d))"
      ]
    },
    {
      "cell_type": "code",
      "execution_count": null,
      "id": "1dc7efb0",
      "metadata": {
        "id": "1dc7efb0",
        "outputId": "1b12fec5-884f-4649-c2f4-e10a71221255"
      },
      "outputs": [
        {
          "name": "stdout",
          "output_type": "stream",
          "text": [
            "False\n"
          ]
        }
      ],
      "source": [
        "print(a==b)"
      ]
    },
    {
      "cell_type": "code",
      "execution_count": null,
      "id": "1e2ff401",
      "metadata": {
        "id": "1e2ff401",
        "outputId": "1790a016-a97f-4304-da63-4cab2dcb3071"
      },
      "outputs": [
        {
          "name": "stdout",
          "output_type": "stream",
          "text": [
            "Hello World\n"
          ]
        }
      ],
      "source": [
        "print(\"Hello World\")"
      ]
    }
  ],
  "metadata": {
    "kernelspec": {
      "display_name": "Python 3 (ipykernel)",
      "language": "python",
      "name": "python3"
    },
    "language_info": {
      "codemirror_mode": {
        "name": "ipython",
        "version": 3
      },
      "file_extension": ".py",
      "mimetype": "text/x-python",
      "name": "python",
      "nbconvert_exporter": "python",
      "pygments_lexer": "ipython3",
      "version": "3.10.9"
    },
    "colab": {
      "provenance": [],
      "include_colab_link": true
    }
  },
  "nbformat": 4,
  "nbformat_minor": 5
}