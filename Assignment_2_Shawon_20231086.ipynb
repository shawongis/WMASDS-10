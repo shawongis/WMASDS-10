{
  "cells": [
    {
      "cell_type": "markdown",
      "metadata": {
        "id": "view-in-github",
        "colab_type": "text"
      },
      "source": [
        "<a href=\"https://colab.research.google.com/github/shawongis/WMASDS-10-Section-B-/blob/main/Assignment_2_Shawon_20231086.ipynb\" target=\"_parent\"><img src=\"https://colab.research.google.com/assets/colab-badge.svg\" alt=\"Open In Colab\"/></a>"
      ]
    },
    {
      "cell_type": "markdown",
      "id": "47b14a3b",
      "metadata": {
        "id": "47b14a3b"
      },
      "source": [
        "## HOMEWORK [Pandas and NumPy Exercise for Data Analysis]\n",
        "\n"
      ]
    },
    {
      "cell_type": "markdown",
      "id": "83079b73",
      "metadata": {
        "id": "83079b73"
      },
      "source": [
        "### 1. NumPy Array Exercises\n"
      ]
    },
    {
      "cell_type": "code",
      "execution_count": 45,
      "id": "e6ca09b6",
      "metadata": {
        "colab": {
          "base_uri": "https://localhost:8080/"
        },
        "id": "e6ca09b6",
        "outputId": "3b41a186-93a9-4f6f-b105-582d3dbb4008"
      },
      "outputs": [
        {
          "output_type": "stream",
          "name": "stdout",
          "text": [
            "[[1. 0. 2. 0.]\n",
            " [3. 0. 2. 0.]\n",
            " [3. 0. 4. 0.]]\n"
          ]
        }
      ],
      "source": [
        "import numpy as np\n",
        "\n",
        "# How to create an empty and a full NumPy array?\n",
        "empty_array = np.empty((3, 4))\n",
        "print(empty_array)"
      ]
    },
    {
      "cell_type": "code",
      "execution_count": 46,
      "id": "8166368b",
      "metadata": {
        "colab": {
          "base_uri": "https://localhost:8080/"
        },
        "id": "8166368b",
        "outputId": "87d64cdb-135d-426b-c4ad-1fba4c3b9095"
      },
      "outputs": [
        {
          "output_type": "stream",
          "name": "stdout",
          "text": [
            "[[0. 0. 0.]\n",
            " [0. 0. 0.]\n",
            " [0. 0. 0.]]\n"
          ]
        }
      ],
      "source": [
        "import numpy as np\n",
        "\n",
        "# Create a Numpy array filled with all zeros\n",
        "zeros_array = np.zeros((3,3))\n",
        "print(zeros_array)"
      ]
    },
    {
      "cell_type": "code",
      "execution_count": 47,
      "id": "52bf21dc",
      "metadata": {
        "colab": {
          "base_uri": "https://localhost:8080/"
        },
        "id": "52bf21dc",
        "outputId": "b3c1546c-4f3b-48b8-93c2-f5fde8499e03"
      },
      "outputs": [
        {
          "output_type": "stream",
          "name": "stdout",
          "text": [
            "[[1. 1. 1.]\n",
            " [1. 1. 1.]\n",
            " [1. 1. 1.]]\n"
          ]
        }
      ],
      "source": [
        "import numpy as np\n",
        "\n",
        "# Create a Numpy array filled with all zeros\n",
        "zeros_array = np.ones((3,3))\n",
        "print(zeros_array)"
      ]
    },
    {
      "cell_type": "code",
      "execution_count": 48,
      "id": "99c44c15",
      "metadata": {
        "colab": {
          "base_uri": "https://localhost:8080/"
        },
        "id": "99c44c15",
        "outputId": "d7c9109a-07c9-42ca-8a42-79b3ec52b47a"
      },
      "outputs": [
        {
          "output_type": "stream",
          "name": "stdout",
          "text": [
            "One dimensional array:\n",
            "[0 1 2 3 4]\n",
            "\n",
            "Two dimensional array:\n",
            "[[0 1 2 3 4]\n",
            " [5 6 7 8 9]]\n"
          ]
        }
      ],
      "source": [
        "import numpy as np\n",
        "\n",
        "#Combining a one and a two-dimensional NumPy Array  \n",
        "\n",
        "num1 = np.arange(5)\n",
        "print(\"One dimensional array:\")\n",
        "print(num1)\n",
        "  \n",
        "num2 = np.arange(10).reshape(2,5)\n",
        "print(\"\\nTwo dimensional array:\")\n",
        "print(num2)\n"
      ]
    },
    {
      "cell_type": "code",
      "execution_count": 49,
      "id": "14298856",
      "metadata": {
        "colab": {
          "base_uri": "https://localhost:8080/"
        },
        "id": "14298856",
        "outputId": "ac8d4394-6e95-4050-b947-3b9a8b33ab07"
      },
      "outputs": [
        {
          "output_type": "stream",
          "name": "stdout",
          "text": [
            "3\n"
          ]
        }
      ],
      "source": [
        "import numpy as np\n",
        "\n",
        "# Counts the number of non-zero values in the array\n",
        "x = np.array([0, 2, 0, 4, 0, 6])\n",
        "count = np.count_nonzero(x)\n",
        "print(count)"
      ]
    },
    {
      "cell_type": "markdown",
      "id": "009a4cc3",
      "metadata": {
        "id": "009a4cc3"
      },
      "source": [
        "## 2. NumPy Matrix Exercises"
      ]
    },
    {
      "cell_type": "code",
      "execution_count": 25,
      "id": "50688867",
      "metadata": {
        "colab": {
          "base_uri": "https://localhost:8080/"
        },
        "id": "50688867",
        "outputId": "fac415fb-07d9-4e15-a3cd-b1b56b77864c"
      },
      "outputs": [
        {
          "output_type": "stream",
          "name": "stdout",
          "text": [
            "64\n"
          ]
        }
      ],
      "source": [
        "import numpy as np\n",
        "          \n",
        "# Get the maximum value from given matrix\n",
        "x = np.matrix('[64, 1; 12, 3]')\n",
        "y = x.max()\n",
        "print(y)"
      ]
    },
    {
      "cell_type": "code",
      "execution_count": 26,
      "id": "8a6e0f63",
      "metadata": {
        "colab": {
          "base_uri": "https://localhost:8080/"
        },
        "id": "8a6e0f63",
        "outputId": "32172bce-e037-4207-a615-471fbb8841f5"
      },
      "outputs": [
        {
          "output_type": "stream",
          "name": "stdout",
          "text": [
            "1\n"
          ]
        }
      ],
      "source": [
        "import numpy as np\n",
        "          \n",
        "# Get the minimum value from given matrix\n",
        "x = np.matrix('[64, 1; 12, 3]')\n",
        "y = x.min()\n",
        "print(y)"
      ]
    },
    {
      "cell_type": "code",
      "execution_count": 27,
      "id": "f7278bdb",
      "metadata": {
        "colab": {
          "base_uri": "https://localhost:8080/"
        },
        "id": "f7278bdb",
        "outputId": "48812c46-8fa1-4520-ff17-54f5a1eae33a"
      },
      "outputs": [
        {
          "output_type": "stream",
          "name": "stdout",
          "text": [
            "Number of rows: 3\n",
            "Number of columns: 3\n"
          ]
        }
      ],
      "source": [
        "import numpy as np\n",
        "\n",
        "# Find the number of rows and columns of a given matrix using NumPy\n",
        "matrix = np.array([[1, 2, 3],\n",
        "                   [4, 5, 6],\n",
        "                   [7, 8, 9]])\n",
        "\n",
        "num_rows, num_cols = matrix.shape\n",
        "\n",
        "print(\"Number of rows:\", num_rows)\n",
        "print(\"Number of columns:\", num_cols)\n"
      ]
    },
    {
      "cell_type": "code",
      "execution_count": 28,
      "id": "e5755a33",
      "metadata": {
        "colab": {
          "base_uri": "https://localhost:8080/"
        },
        "id": "e5755a33",
        "outputId": "498f4067-08e8-408b-92b6-f443d841c0af"
      },
      "outputs": [
        {
          "output_type": "stream",
          "name": "stdout",
          "text": [
            "matrix sum: \n",
            " [[ 8 10 12]\n",
            " [14 16 18]]\n",
            "Matrix subtracting: \n",
            " [[-6 -6 -6]\n",
            " [-6 -6 -6]]\n"
          ]
        }
      ],
      "source": [
        "import numpy as np\n",
        "\n",
        "# Adding and Subtracting Matrices in Python\n",
        "matrix1 = np.array([[1, 2, 3],\n",
        "                    [4, 5, 6]])\n",
        "\n",
        "matrix2 = np.array([[7, 8, 9],\n",
        "                    [10, 11, 12]])\n",
        "\n",
        "matrix_sum = matrix1 + matrix2\n",
        "matrix_diff = matrix1 - matrix2\n",
        "\n",
        "print(\"matrix sum: \\n\", matrix_sum)\n",
        "print(\"Matrix subtracting: \\n\", matrix_diff)\n"
      ]
    },
    {
      "cell_type": "code",
      "execution_count": 29,
      "id": "2821b52f",
      "metadata": {
        "colab": {
          "base_uri": "https://localhost:8080/"
        },
        "id": "2821b52f",
        "outputId": "0cd5ebb4-0d63-4a2c-e15c-882a0052e9c7"
      },
      "outputs": [
        {
          "output_type": "stream",
          "name": "stdout",
          "text": [
            "[[ 300  360  420]\n",
            " [ 660  810  960]\n",
            " [1020 1260 1500]]\n"
          ]
        }
      ],
      "source": [
        "import numpy as np\n",
        "\n",
        "# Matrix Multiplication in NumPy\n",
        "matrix1 = np.array([[1, 2, 3], \n",
        "                    [4, 5, 6], \n",
        "                    [7, 8, 9]])\n",
        "\n",
        "matrix2 = np.array([[10, 20, 30], \n",
        "                    [40, 50, 60], \n",
        "                    [70, 80, 90]])\n",
        "\n",
        "multi_matrix = np.matmul(matrix1, matrix2)\n",
        "\n",
        "print(multi_matrix)\n"
      ]
    },
    {
      "cell_type": "code",
      "execution_count": 30,
      "id": "d3bc5c2a",
      "metadata": {
        "colab": {
          "base_uri": "https://localhost:8080/"
        },
        "id": "d3bc5c2a",
        "outputId": "e7631f94-ccbd-49ea-82ed-19141aaa71e5"
      },
      "outputs": [
        {
          "output_type": "stream",
          "name": "stdout",
          "text": [
            "[[1 2]\n",
            " [4 5]\n",
            " [3 6]]\n",
            "[[1 2 3]\n",
            " [4 5 6]]\n"
          ]
        }
      ],
      "source": [
        "import numpy as np\n",
        "\n",
        "# Ways to add row/columns in numpy array\n",
        "x = np.array([[1, 2],\n",
        "            [4, 5]])\n",
        "\n",
        "y = np.array([3, 6])\n",
        "\n",
        "new_row = np.vstack((x, y))\n",
        "new_colum = np.hstack((x, y.reshape(-1, 1)))\n",
        "\n",
        "print(new_row) \n",
        "print(new_colum)\n",
        "\n"
      ]
    },
    {
      "cell_type": "code",
      "execution_count": 31,
      "id": "bfde52b4",
      "metadata": {
        "colab": {
          "base_uri": "https://localhost:8080/"
        },
        "id": "bfde52b4",
        "outputId": "e232832a-45fc-4abc-f02e-766a2f778e76"
      },
      "outputs": [
        {
          "output_type": "stream",
          "name": "stdout",
          "text": [
            "(array([ 1.61168440e+01, -1.11684397e+00, -1.30367773e-15]), array([[-0.23197069, -0.78583024,  0.40824829],\n",
            "       [-0.52532209, -0.08675134, -0.81649658],\n",
            "       [-0.8186735 ,  0.61232756,  0.40824829]]))\n"
          ]
        }
      ],
      "source": [
        "import numpy as np\n",
        "\n",
        "# Get the eigen values of a matrix\n",
        "matrix = np.array([[1, 2, 3], \n",
        "                   [4, 5, 6], \n",
        "                   [7, 8, 9]])\n",
        "\n",
        "eigenvalues = np.linalg.eig(matrix)\n",
        "print(eigenvalues)\n"
      ]
    },
    {
      "cell_type": "code",
      "execution_count": 32,
      "id": "cecf1f8f",
      "metadata": {
        "colab": {
          "base_uri": "https://localhost:8080/"
        },
        "id": "cecf1f8f",
        "outputId": "2e621168-cb70-4b09-a6a1-e3adcb90c47d"
      },
      "outputs": [
        {
          "output_type": "stream",
          "name": "stdout",
          "text": [
            "[1 2 3 4 5 6 7 8]\n",
            "[2 2 1 1 1 1 1 1]\n"
          ]
        }
      ],
      "source": [
        "import numpy as np\n",
        "\n",
        "# How to count the frequency of unique values in NumPy array?\n",
        "array = np.array([1, 2, 3, 2, 1, 4, 5, 6, 7, 8])\n",
        "\n",
        "unique_values, counts = np.unique(array, return_counts=True)\n",
        "\n",
        "print(unique_values)\n",
        "print(counts)\n"
      ]
    },
    {
      "cell_type": "code",
      "execution_count": 33,
      "id": "45ce9bc8",
      "metadata": {
        "colab": {
          "base_uri": "https://localhost:8080/"
        },
        "id": "45ce9bc8",
        "outputId": "d1afacfc-b069-4547-a2e2-9477d6178cfd"
      },
      "outputs": [
        {
          "output_type": "stream",
          "name": "stdout",
          "text": [
            "[[-2.   1. ]\n",
            " [ 1.5 -0.5]]\n"
          ]
        }
      ],
      "source": [
        "import numpy as np\n",
        "\n",
        "# How to inverse a matrix using NumPy\n",
        "matrix = np.array([[1, 2],\n",
        "                   [3, 4]])\n",
        "\n",
        "inverse_matrix = np.linalg.inv(matrix)\n",
        "print(inverse_matrix)\n",
        "\n"
      ]
    },
    {
      "cell_type": "code",
      "execution_count": 34,
      "id": "eb6b6e57",
      "metadata": {
        "colab": {
          "base_uri": "https://localhost:8080/"
        },
        "id": "eb6b6e57",
        "outputId": "2b6e2de1-2e53-4d1b-9b08-992bd2279f8a"
      },
      "outputs": [
        {
          "output_type": "stream",
          "name": "stdout",
          "text": [
            "0.0\n"
          ]
        }
      ],
      "source": [
        "import numpy as np\n",
        "\n",
        "# How to Calculate the determinant of a matrix using NumPy?\n",
        "matrix = np.array([[1, 2, 3], \n",
        "                   [4, 5, 6], \n",
        "                   [7, 8, 9]])\n",
        "\n",
        "determinant = np.linalg.det(matrix)\n",
        "print(determinant)"
      ]
    },
    {
      "cell_type": "code",
      "execution_count": 35,
      "id": "0f76aba9",
      "metadata": {
        "colab": {
          "base_uri": "https://localhost:8080/"
        },
        "id": "0f76aba9",
        "outputId": "0e130e46-1e69-42fa-f4f1-9a3c259f0d2d"
      },
      "outputs": [
        {
          "output_type": "stream",
          "name": "stdout",
          "text": [
            "[[0.40824829 0.81649658 1.22474487]\n",
            " [1.63299316 2.04124145 2.44948974]\n",
            " [2.85773803 3.26598632 3.67423461]]\n"
          ]
        }
      ],
      "source": [
        "import numpy as np\n",
        "\n",
        "# Convert covariance matrix to correlation matrix using Python\n",
        "covariance_matrix = np.array([[1, 2, 3], \n",
        "                              [4, 5, 6], \n",
        "                              [7, 8, 9]])\n",
        "\n",
        "correlation_matrix = covariance_matrix / np.std(covariance_matrix, axis=0)\n",
        "print(correlation_matrix)"
      ]
    },
    {
      "cell_type": "markdown",
      "id": "c743b510",
      "metadata": {
        "id": "c743b510"
      },
      "source": [
        "### 3. NumPy Indexing Exercises"
      ]
    },
    {
      "cell_type": "code",
      "execution_count": 36,
      "id": "aefab93d",
      "metadata": {
        "colab": {
          "base_uri": "https://localhost:8080/"
        },
        "id": "aefab93d",
        "outputId": "023c548d-ade4-4004-bdc9-f4e62d6e7238"
      },
      "outputs": [
        {
          "output_type": "stream",
          "name": "stdout",
          "text": [
            "Given array:\n",
            "[[45 52 10]\n",
            " [15 50 25]]\n",
            "\n",
            "Replace all elements of array which are greater than 30. to 5.25\n",
            "New array :\n",
            "\n",
            "[[ 5  5 10]\n",
            " [15  5 25]]\n"
          ]
        }
      ],
      "source": [
        "import numpy as np\n",
        "\n",
        "# Replace NumPy array elements that doesn’t satisfy the given condition\n",
        "x = np.array([[45, 52, 10],\n",
        "              [15, 50, 25]])\n",
        "print(\"Given array:\")\n",
        "print(x)\n",
        "\n",
        "print(\"\\nReplace all elements of array which are greater than 30. to 5.25\")\n",
        "x[x > 30.] = 5\n",
        "\n",
        "print(\"New array :\\n\")\n",
        "print(x)"
      ]
    },
    {
      "cell_type": "code",
      "execution_count": 37,
      "id": "1d580683",
      "metadata": {
        "colab": {
          "base_uri": "https://localhost:8080/"
        },
        "id": "1d580683",
        "outputId": "e778ff2b-3fb1-499a-96d7-147915da4bec"
      },
      "outputs": [
        {
          "output_type": "stream",
          "name": "stdout",
          "text": [
            "[0, 1]\n"
          ]
        }
      ],
      "source": [
        "lst = [1, 2, 3, 4, 5]\n",
        "\n",
        "# Return the indices of elements where the given condition is satisfied\n",
        "condition = lambda x: x < 3\n",
        "\n",
        "indices = []\n",
        "for i, x in enumerate(lst):\n",
        "    if condition(x):\n",
        "        indices.append(i)\n",
        "\n",
        "print(indices)"
      ]
    },
    {
      "cell_type": "code",
      "execution_count": 38,
      "id": "7014700d",
      "metadata": {
        "colab": {
          "base_uri": "https://localhost:8080/"
        },
        "id": "7014700d",
        "outputId": "5607266f-8008-4ee4-bd3e-1a867cdcda40"
      },
      "outputs": [
        {
          "output_type": "stream",
          "name": "stdout",
          "text": [
            "[0 2 0 4 0]\n"
          ]
        }
      ],
      "source": [
        "import numpy as np\n",
        "\n",
        "# Replace negative value with zero in numpy array\n",
        "x = np.array([-1, 2, -3, 4, -5])\n",
        "x[x < 0] = 0\n",
        "\n",
        "print(x)\n"
      ]
    },
    {
      "cell_type": "code",
      "execution_count": 39,
      "id": "3f551a80",
      "metadata": {
        "colab": {
          "base_uri": "https://localhost:8080/"
        },
        "id": "3f551a80",
        "outputId": "8e27c47c-31ee-46c3-d6cc-58cb452d7201"
      },
      "outputs": [
        {
          "output_type": "stream",
          "name": "stdout",
          "text": [
            "[[1.  2.  7.5]\n",
            " [4.  5.  6. ]\n",
            " [2.5 8.  9. ]]\n"
          ]
        }
      ],
      "source": [
        "import numpy as np\n",
        "\n",
        "# Replace NaN values with average of columns\n",
        "x = np.array([[1, 2, np.nan],\n",
        "                [4, np.nan, 6],\n",
        "                [np.nan, 8, 9]])\n",
        "\n",
        "col_avg = np.nanmean(x, axis=0)\n",
        "x = np.where(np.isnan(x), np.expand_dims(col_avg, axis=0), x)\n",
        "\n",
        "print(x)"
      ]
    },
    {
      "cell_type": "code",
      "execution_count": 40,
      "id": "21e2df8c",
      "metadata": {
        "colab": {
          "base_uri": "https://localhost:8080/"
        },
        "id": "21e2df8c",
        "outputId": "09a1e32f-132c-4354-f159-996d8b6df8fd"
      },
      "outputs": [
        {
          "output_type": "stream",
          "name": "stdout",
          "text": [
            "[1 3 5]\n"
          ]
        }
      ],
      "source": [
        "import numpy as np\n",
        "\n",
        "# How to get values of an NumPy array at certain index positions?\n",
        "x = np.array([1, 2, 3, 4, 5])\n",
        "indices = [0, 2, 4]\n",
        "values = x[indices]\n",
        "print(values)\n"
      ]
    },
    {
      "cell_type": "code",
      "execution_count": 41,
      "id": "8af60259",
      "metadata": {
        "colab": {
          "base_uri": "https://localhost:8080/"
        },
        "id": "8af60259",
        "outputId": "1edc989e-34b3-4149-8c2a-546f70c98cc2"
      },
      "outputs": [
        {
          "output_type": "stream",
          "name": "stdout",
          "text": [
            "[[1]\n",
            " [3]\n",
            " [5]]\n"
          ]
        }
      ],
      "source": [
        "import numpy as np\n",
        "\n",
        "# Find indices of elements equal to zero in a NumPy array\n",
        "x = np.array([1, 0, 3, 0, 5, 0])\n",
        "indices = np.argwhere(x == 0)\n",
        "print(indices)"
      ]
    },
    {
      "cell_type": "code",
      "execution_count": 42,
      "id": "e1201b0f",
      "metadata": {
        "colab": {
          "base_uri": "https://localhost:8080/"
        },
        "id": "e1201b0f",
        "outputId": "68f1f122-4f4d-40b2-cc1a-805801ad8dc8"
      },
      "outputs": [
        {
          "output_type": "stream",
          "name": "stdout",
          "text": [
            "[1 2 3]\n",
            "[4 5 6]\n",
            "[7 8 9]\n"
          ]
        }
      ],
      "source": [
        "import numpy as np\n",
        "\n",
        "# How to access different rows of a multidimensional NumPy array?\n",
        "arr = np.array([[1, 2, 3],\n",
        "                [4, 5, 6],\n",
        "                [7, 8, 9]])\n",
        "\n",
        "row_1 = arr[0]\n",
        "row_2 = arr[1]\n",
        "row_3 = arr[2]\n",
        "\n",
        "print(row_1)\n",
        "print(row_2)\n",
        "print(row_3)"
      ]
    },
    {
      "cell_type": "code",
      "execution_count": 43,
      "id": "318ed2b9",
      "metadata": {
        "colab": {
          "base_uri": "https://localhost:8080/"
        },
        "id": "318ed2b9",
        "outputId": "819e8c40-0033-4635-8a6e-4cc990f69bfb"
      },
      "outputs": [
        {
          "output_type": "stream",
          "name": "stdout",
          "text": [
            "[[1. 2.]\n",
            " [3. 4.]\n",
            " [6. 7.]]\n"
          ]
        }
      ],
      "source": [
        "import numpy as np\n",
        "\n",
        "array = np.array([[1, 2, np.nan],\n",
        "                  [3, 4, 5],\n",
        "                  [6, 7, 8]])\n",
        "\n",
        "x = np.isnan(array).any(axis=0)\n",
        "\n",
        "new_array = array[:, ~ x]\n",
        "\n",
        "print(new_array)"
      ]
    },
    {
      "cell_type": "code",
      "execution_count": 44,
      "id": "929dc623",
      "metadata": {
        "colab": {
          "base_uri": "https://localhost:8080/"
        },
        "id": "929dc623",
        "outputId": "670cbdaf-462f-4f54-fe4f-af3a9764cc21"
      },
      "outputs": [
        {
          "output_type": "stream",
          "name": "stdout",
          "text": [
            "9\n"
          ]
        }
      ],
      "source": [
        "import numpy as np\n",
        "\n",
        "# Get row numbers of NumPy array having element larger than X\n",
        "array = np.array([[1, 2, 3], \n",
        "                  [4, 5, 6], \n",
        "                  [7, 8, 9]])\n",
        "\n",
        "row_number = np.max(array)\n",
        "print(row_number)\n"
      ]
    },
    {
      "cell_type": "markdown",
      "id": "1fce1944",
      "metadata": {
        "id": "1fce1944"
      },
      "source": [
        "## 4. NumPy Sorting and Searching Exercises"
      ]
    },
    {
      "cell_type": "code",
      "execution_count": 19,
      "id": "3e808930",
      "metadata": {
        "colab": {
          "base_uri": "https://localhost:8080/"
        },
        "id": "3e808930",
        "outputId": "caab257e-a2aa-4c6b-cbb3-5d9eb0bdf379"
      },
      "outputs": [
        {
          "output_type": "stream",
          "name": "stdout",
          "text": [
            "[2 4 5 7 9]\n"
          ]
        }
      ],
      "source": [
        "import numpy as np\n",
        "\n",
        "#How to get the indices of the sorted array using NumPy in Python?\n",
        "arr = np.array([9, 2, 7, 4, 5])\n",
        "indices = np.sort(arr)\n",
        "print(indices)"
      ]
    },
    {
      "cell_type": "code",
      "execution_count": 20,
      "id": "569f8332",
      "metadata": {
        "colab": {
          "base_uri": "https://localhost:8080/"
        },
        "id": "569f8332",
        "outputId": "f33fcb73-14c7-4f1a-8564-bf48c76c7214"
      },
      "outputs": [
        {
          "output_type": "stream",
          "name": "stdout",
          "text": [
            "[1 2 3]\n"
          ]
        }
      ],
      "source": [
        "import numpy as np\n",
        "\n",
        "# Finding the k smallest values of a NumPy array\n",
        "array = np.array([1, 2, 3, 4, 5, 6, 7, 8, 9, 10])\n",
        "k = 3\n",
        "smallest_values = array[np.argpartition(array, k)[:k]]\n",
        "print(smallest_values)"
      ]
    },
    {
      "cell_type": "code",
      "execution_count": 21,
      "id": "d7640df9",
      "metadata": {
        "colab": {
          "base_uri": "https://localhost:8080/"
        },
        "id": "d7640df9",
        "outputId": "50ec7167-6bcc-4d85-e6ee-f801aaee6f1e"
      },
      "outputs": [
        {
          "output_type": "stream",
          "name": "stdout",
          "text": [
            "[ 8  9 10]\n"
          ]
        }
      ],
      "source": [
        "import numpy as np\n",
        "\n",
        "# How to get the n-largest values of an array using NumPy?\n",
        "array = np.array([1, 2, 3, 4, 5, 6, 7, 8, 9, 10])\n",
        "k = 3\n",
        "largest_values = array[np.argpartition(array, -k)[-k:]]\n",
        "print(largest_values)"
      ]
    },
    {
      "cell_type": "code",
      "execution_count": 22,
      "id": "6e0eb033",
      "metadata": {
        "colab": {
          "base_uri": "https://localhost:8080/"
        },
        "id": "6e0eb033",
        "outputId": "efb32b49-98d2-4acf-c9df-411f4dfa845f"
      },
      "outputs": [
        {
          "output_type": "stream",
          "name": "stdout",
          "text": [
            "[[2 7 9]\n",
            " [4 5 6]\n",
            " [1 3 8]]\n"
          ]
        }
      ],
      "source": [
        "import numpy as np\n",
        "\n",
        "# Sort the values in a matrix\n",
        "matrix = np.array([[9, 2, 7],\n",
        "                   [4, 5, 6],\n",
        "                   [3, 1, 8]])\n",
        "\n",
        "sorted_matrix = np.sort(matrix)\n",
        "print(sorted_matrix)"
      ]
    },
    {
      "cell_type": "code",
      "execution_count": 23,
      "id": "8bfe5e75",
      "metadata": {
        "colab": {
          "base_uri": "https://localhost:8080/"
        },
        "id": "8bfe5e75",
        "outputId": "536a46bf-0bdb-43e4-941e-057b2f86c81f"
      },
      "outputs": [
        {
          "output_type": "stream",
          "name": "stdout",
          "text": [
            "[ 1.  2.  3.  4.  5.  6.  7.  8.  9. 10.]\n"
          ]
        }
      ],
      "source": [
        "import numpy as np\n",
        "\n",
        "# Filter out integers from float numpy array\n",
        "array = np.array([1.0, 2.0, 3, 4.0, 5.0, 6, 7, 8, 9, 10])\n",
        "filtered_array = array[np.isreal(array)]\n",
        "print(filtered_array)"
      ]
    },
    {
      "cell_type": "code",
      "execution_count": 24,
      "id": "0e050cdc",
      "metadata": {
        "colab": {
          "base_uri": "https://localhost:8080/"
        },
        "id": "0e050cdc",
        "outputId": "cf5fdc6f-841d-411f-8a76-c70e2fcefd6b"
      },
      "outputs": [
        {
          "output_type": "stream",
          "name": "stdout",
          "text": [
            "[0 1 2 3 4 5 6 7 8 9]\n"
          ]
        }
      ],
      "source": [
        "import numpy as np\n",
        "\n",
        "# Find the indices into a sorted array\n",
        "array = np.array([1, 2, 3, 4, 5, 6, 7, 8, 9, 10])\n",
        "indices = np.argsort(array)\n",
        "print(indices)"
      ]
    },
    {
      "cell_type": "markdown",
      "id": "195ed93a",
      "metadata": {
        "id": "195ed93a"
      },
      "source": [
        "## 5. NumPy Random Exercises"
      ]
    },
    {
      "cell_type": "code",
      "execution_count": 15,
      "id": "3d12f33c",
      "metadata": {
        "colab": {
          "base_uri": "https://localhost:8080/"
        },
        "id": "3d12f33c",
        "outputId": "c7ee5e7e-c5dd-4a3c-a5eb-8c8c2327c6df"
      },
      "outputs": [
        {
          "output_type": "stream",
          "name": "stdout",
          "text": [
            "[[0.71931097 0.12119734 0.56369583]\n",
            " [0.75733579 0.4964145  0.36588485]\n",
            " [0.89298337 0.14592374 0.97392184]]\n"
          ]
        }
      ],
      "source": [
        "import numpy as np\n",
        "\n",
        "# Create a Numpy array with random values\n",
        "x = np.random.rand(3,3)\n",
        "print(x)"
      ]
    },
    {
      "cell_type": "code",
      "execution_count": 16,
      "id": "7c9f6c38",
      "metadata": {
        "colab": {
          "base_uri": "https://localhost:8080/"
        },
        "id": "7c9f6c38",
        "outputId": "ae418aee-65b4-4cab-e3c5-646dbdbe8e02"
      },
      "outputs": [
        {
          "output_type": "stream",
          "name": "stdout",
          "text": [
            "0.7108196601454895\n"
          ]
        }
      ],
      "source": [
        "import numpy as np\n",
        "\n",
        "# Generate Random Numbers From The Uniform Distribution using NumPy\n",
        "random_number = np.random.uniform()\n",
        "print(random_number)"
      ]
    },
    {
      "cell_type": "code",
      "execution_count": 17,
      "id": "373620a9",
      "metadata": {
        "colab": {
          "base_uri": "https://localhost:8080/"
        },
        "id": "373620a9",
        "outputId": "3ddd5886-45b0-4db4-a929-fd8403b39bb6"
      },
      "outputs": [
        {
          "output_type": "stream",
          "name": "stdout",
          "text": [
            "[[0.0459514  0.40481946 0.67168547]\n",
            " [0.17000672 0.89450156 0.43299525]\n",
            " [0.13707281 0.71937009 0.40568555]]\n"
          ]
        }
      ],
      "source": [
        "import numpy as np\n",
        "\n",
        "# Return a Matrix of random values from a uniform distribution\n",
        "random_matrix = np.random.uniform(low=0, high=1, size=(3, 3))\n",
        "print(random_matrix)"
      ]
    },
    {
      "cell_type": "code",
      "execution_count": 18,
      "id": "3f7b7bf2",
      "metadata": {
        "colab": {
          "base_uri": "https://localhost:8080/"
        },
        "id": "3f7b7bf2",
        "outputId": "3e8b1fe4-721d-451a-d01e-87e91c6da82e"
      },
      "outputs": [
        {
          "output_type": "stream",
          "name": "stdout",
          "text": [
            "[[ 0.78038316  0.47048905  0.17907148]\n",
            " [-0.23449757  0.01500299 -1.23942051]\n",
            " [ 0.28617818  0.99841372  0.1914485 ]]\n"
          ]
        }
      ],
      "source": [
        "import numpy as np\n",
        "\n",
        "# Return a Matrix of random values from a Gaussian distribution\n",
        "random_matrix = np.random.normal(loc=0, scale=1, size=(3, 3))\n",
        "print(random_matrix)"
      ]
    },
    {
      "cell_type": "markdown",
      "id": "3c7bdc5e",
      "metadata": {
        "id": "3c7bdc5e"
      },
      "source": [
        "## 6. Pandas Dataframe Exercises"
      ]
    },
    {
      "cell_type": "code",
      "execution_count": 7,
      "id": "c34de4ba",
      "metadata": {
        "colab": {
          "base_uri": "https://localhost:8080/"
        },
        "id": "c34de4ba",
        "outputId": "bae25ed2-0be0-41c7-f065-ae14bd842828"
      },
      "outputs": [
        {
          "output_type": "stream",
          "name": "stdout",
          "text": [
            "   A  B  C\n",
            "1  5  7  3\n",
            "2  4  5  6\n",
            "3  7  8  9\n"
          ]
        }
      ],
      "source": [
        "import pandas as pd\n",
        "\n",
        "#Make a Pandas DataFrame with two-dimensional list\n",
        "#Creating DataFrame from dict of narray/lists\n",
        "data = [[5, 7, 3],\n",
        "        [4, 5, 6],\n",
        "        [7, 8, 9]]\n",
        "\n",
        "col_nam = ['A', 'B', 'C']\n",
        "row_nam = ['1', '2', '3']\n",
        "x = pd.DataFrame(data, columns=col_nam, index=row_nam)\n",
        "\n",
        "print(x)"
      ]
    },
    {
      "cell_type": "code",
      "execution_count": 8,
      "id": "6a8bcbd4",
      "metadata": {
        "colab": {
          "base_uri": "https://localhost:8080/"
        },
        "id": "6a8bcbd4",
        "outputId": "38483e8c-ff9a-4475-dc47-22f487d5759a"
      },
      "outputs": [
        {
          "output_type": "stream",
          "name": "stdout",
          "text": [
            "      Name  Age  Height\n",
            "0    Alice   25     165\n",
            "1      Bob   30     175\n",
            "2  Charlie   35     180\n"
          ]
        }
      ],
      "source": [
        "import pandas as pd\n",
        "\n",
        "#Creating Pandas dataframe using list of lists\n",
        "data = {\n",
        "    'Name': ['Alice', 'Bob', 'Charlie'],\n",
        "    'Age': [25, 30, 35],\n",
        "    'Height': [165, 175, 180]\n",
        "}\n",
        "\n",
        "df = pd.DataFrame(data)\n",
        "print(df)"
      ]
    },
    {
      "cell_type": "code",
      "execution_count": 9,
      "id": "30a40913",
      "metadata": {
        "colab": {
          "base_uri": "https://localhost:8080/"
        },
        "id": "30a40913",
        "outputId": "b37d80b0-c887-4367-8823-e2dd1b98fd1b"
      },
      "outputs": [
        {
          "output_type": "stream",
          "name": "stdout",
          "text": [
            "   A  B  C\n",
            "0  1  2  3\n",
            "1  4  5  6\n"
          ]
        }
      ],
      "source": [
        "import pandas as pd\n",
        "\n",
        "# Creating a Pandas dataframe using list of tuples\n",
        "list_of_tuples = [(1, 2, 3), (4, 5, 6)]\n",
        "df = pd.DataFrame(list_of_tuples, columns=['A', 'B', 'C'])\n",
        "print(df)"
      ]
    },
    {
      "cell_type": "code",
      "execution_count": 10,
      "id": "dfec9c4d",
      "metadata": {
        "colab": {
          "base_uri": "https://localhost:8080/"
        },
        "id": "dfec9c4d",
        "outputId": "14c57c2a-2f80-4f35-e224-7e9d71bfbc8e"
      },
      "outputs": [
        {
          "output_type": "stream",
          "name": "stdout",
          "text": [
            "   A  B  C\n",
            "0  1  2  3\n",
            "1  4  5  6\n"
          ]
        }
      ],
      "source": [
        "import pandas as pd\n",
        "\n",
        "# Create a Pandas DataFrame from List of Dicts\n",
        "list_of_dicts = [{'A': 1, 'B': 2, 'C': 3}, {'A': 4, 'B': 5, 'C': 6}]\n",
        "df = pd.DataFrame(list_of_dicts)\n",
        "\n",
        "print(df)\n"
      ]
    },
    {
      "cell_type": "code",
      "execution_count": 11,
      "id": "0e989f01",
      "metadata": {
        "colab": {
          "base_uri": "https://localhost:8080/"
        },
        "id": "0e989f01",
        "outputId": "09482b51-aecb-4c79-b71f-d159df217e50"
      },
      "outputs": [
        {
          "output_type": "stream",
          "name": "stdout",
          "text": [
            "   Values\n",
            "0      10\n",
            "1      20\n",
            "2      30\n",
            "3      40\n",
            "4      50\n"
          ]
        }
      ],
      "source": [
        "import pandas as pd\n",
        "\n",
        "# Creating a dataframe from Pandas series\n",
        "series = pd.Series([10, 20, 30, 40, 50])\n",
        "x = pd.DataFrame(series, columns=['Values'])\n",
        "\n",
        "print(x)"
      ]
    },
    {
      "cell_type": "code",
      "execution_count": 12,
      "id": "521a3444",
      "metadata": {
        "colab": {
          "base_uri": "https://localhost:8080/"
        },
        "id": "521a3444",
        "outputId": "bfcdc325-ce5c-4b6f-8379-4a99940b7203"
      },
      "outputs": [
        {
          "output_type": "stream",
          "name": "stdout",
          "text": [
            "Original DataFrame:\n",
            "   A  B\n",
            "X  1  4\n",
            "Y  2  5\n",
            "Z  3  6\n"
          ]
        }
      ],
      "source": [
        "import pandas as pd\n",
        "\n",
        "# Reindexing in Pandas DataFrame\n",
        "df = pd.DataFrame({'A': [1, 2, 3], 'B': [4, 5, 6]}, index=['X', 'Y', 'Z'])\n",
        "print(\"Original DataFrame:\")\n",
        "print(df)"
      ]
    },
    {
      "cell_type": "code",
      "execution_count": 13,
      "id": "8a454a45",
      "metadata": {
        "colab": {
          "base_uri": "https://localhost:8080/"
        },
        "id": "8a454a45",
        "outputId": "50c54865-acc3-49c7-a5f9-7c5df9538bae"
      },
      "outputs": [
        {
          "output_type": "stream",
          "name": "stdout",
          "text": [
            "   index  A  B\n",
            "0      0  1  4\n",
            "1      1  2  5\n",
            "2      2  3  6\n"
          ]
        }
      ],
      "source": [
        "import pandas as pd\n",
        "\n",
        "# Reset Index in Pandas Dataframe\n",
        "df = pd.DataFrame({'A': [1, 2, 3], 'B': [4, 5, 6]})\n",
        "df = df.reset_index()\n",
        "\n",
        "print(df)"
      ]
    },
    {
      "cell_type": "code",
      "execution_count": 14,
      "id": "96c8aebe",
      "metadata": {
        "scrolled": false,
        "colab": {
          "base_uri": "https://localhost:8080/"
        },
        "id": "96c8aebe",
        "outputId": "2fe09bd9-fa33-4e7d-cfe6-ee636a98c46f"
      },
      "outputs": [
        {
          "output_type": "stream",
          "name": "stdout",
          "text": [
            "Original DataFrame:\n",
            "   A  B\n",
            "X  1  4\n",
            "Y  2  5\n",
            "Z  3  6\n",
            "\n",
            "DataFrame with Changed Column Names:\n",
            "   Column1  Column2\n",
            "X        1        4\n",
            "Y        2        5\n",
            "Z        3        6\n"
          ]
        }
      ],
      "source": [
        "import pandas as pd\n",
        "\n",
        "# Change column names and row indexes in Pandas DataFrame\n",
        "df = pd.DataFrame({'A': [1, 2, 3], 'B': [4, 5, 6]}, index=['X', 'Y', 'Z'])\n",
        "print(\"Original DataFrame:\")\n",
        "print(df)\n",
        "\n",
        "new_column_names = {'A': 'Column1', 'B': 'Column2'}\n",
        "df = df.rename(columns=new_column_names)\n",
        "print(\"\\nDataFrame with Changed Column Names:\")\n",
        "print(df)"
      ]
    },
    {
      "cell_type": "markdown",
      "id": "addc7253",
      "metadata": {
        "id": "addc7253"
      },
      "source": [
        "## 7.    Pandas Dataframe Row Exercises"
      ]
    },
    {
      "cell_type": "code",
      "execution_count": 5,
      "id": "b7e36bdb",
      "metadata": {
        "colab": {
          "base_uri": "https://localhost:8080/"
        },
        "id": "b7e36bdb",
        "outputId": "9f98206b-4755-41f1-c037-0f5eb3e822fe"
      },
      "outputs": [
        {
          "output_type": "stream",
          "name": "stdout",
          "text": [
            "0 Rahim 25\n",
            "1 Karim 30\n",
            "2 Jamal 22\n",
            "Rahim 25\n",
            "Karim 30\n",
            "Jamal 22\n",
            "    Name  Age\n",
            "1  Karim   30\n",
            "Name    Rahim\n",
            "Age        25\n",
            "Name: 0, dtype: object\n",
            "    Name  Age\n",
            "0  Rahim   25\n",
            "1  Karim   30\n",
            "    Name  Age\n",
            "1  Karim   30\n",
            "2  Jamal   22\n",
            "    Name  Age\n",
            "0  Rahim   35\n",
            "1  Kalam   35\n",
            "2  Jamal   22\n",
            "[['Rahim', 35], ['Karim', 30], ['Jamal', 22]]\n",
            "    Name  Age  Rank\n",
            "0  Rahim   35   3.0\n",
            "1  Karim   30   2.0\n",
            "2  Jamal   22   1.0\n",
            "    Name  Age\n",
            "2  Jamal   22\n",
            "1  Karim   30\n",
            "0  Rahim   35\n",
            "Row with maximum age:\n",
            "Name    Rahim\n",
            "Age        35\n",
            "Name: 0, dtype: object\n",
            "\n",
            "Row with minimum age:\n",
            "Name    Jamal\n",
            "Age        22\n",
            "Name: 2, dtype: object\n",
            "    Name  Age\n",
            "0  Rahim   35\n",
            "1  Karim   30\n",
            "       Age\n",
            "Name      \n",
            "Rahim   35\n",
            "Karim   30\n",
            "Jamal   22\n",
            "    Name  Age\n",
            "2  Jamal   22\n",
            "0  Rahim   35\n"
          ]
        }
      ],
      "source": [
        "# i) How to iterate over rows in Pandas Dataframe\n",
        "import pandas as pd\n",
        "\n",
        "data = {\"Name\": [\"Rahim\", \"Karim\", \"Jamal\"],\n",
        "        \"Age\": [25, 30, 22]}\n",
        "df = pd.DataFrame(data)\n",
        "\n",
        "for index, row in df.iterrows():\n",
        "    print(index, row[\"Name\"], row[\"Age\"])\n",
        "    \n",
        "# ii) Different ways to iterate over rows in Pandas Dataframe\n",
        "import pandas as pd\n",
        "\n",
        "data = {\"Name\": [\"Rahim\", \"Karim\", \"Jamal\"],\n",
        "        \"Age\": [25, 30, 22]}\n",
        "df = pd.DataFrame(data)\n",
        "\n",
        "for i in range(len(df)):\n",
        "    print(df.loc[i, \"Name\"], df.loc[i, \"Age\"])\n",
        "    \n",
        "# iii) Selecting rows in pandas DataFrame based on conditions\n",
        "import pandas as pd\n",
        "\n",
        "data = {\"Name\": [\"Rahim\", \"Karim\", \"Jamal\"],\n",
        "        \"Age\": [25, 30, 22]}\n",
        "df = pd.DataFrame(data)\n",
        "\n",
        "selected_rows = df[df['Age'] > 25]\n",
        "print(selected_rows)\n",
        "\n",
        "# iv) Select any row from a Dataframe using iloc[] and iat[] in Pandas\n",
        "import pandas as pd\n",
        "\n",
        "data = {\"Name\": [\"Rahim\", \"Karim\", \"Jamal\"],\n",
        "        \"Age\": [25, 30, 22]}\n",
        "df = pd.DataFrame(data)\n",
        "\n",
        "first_row = df.iloc[0]\n",
        "print(first_row)\n",
        "\n",
        "# v) Limited rows selection with given column in Pandas | Python\n",
        "import pandas as pd\n",
        "\n",
        "data = {\"Name\": [\"Rahim\", \"Karim\", \"Jamal\"],\n",
        "        \"Age\": [25, 30, 22]}\n",
        "df = pd.DataFrame(data)\n",
        "\n",
        "selected_rows = df[:2]\n",
        "print(selected_rows)\n",
        "\n",
        "\n",
        "# vi) Drop rows from the dataframe based on certain condition applied on a column\n",
        "import pandas as pd\n",
        "\n",
        "data = {\"Name\": [\"Rahim\", \"Karim\", \"Jamal\"],\n",
        "        \"Age\": [35, 30, 22]}\n",
        "df = pd.DataFrame(data)\n",
        "\n",
        "df = df.drop(df[df[\"Age\"] > 30].index)\n",
        "print(df)\n",
        "\n",
        "# vii) Insert row at given position in Pandas Dataframe\n",
        "import pandas as pd\n",
        "\n",
        "data = {\"Name\": [\"Rahim\", \"Karim\", \"Jamal\"],\n",
        "        \"Age\": [35, 30, 22]}\n",
        "df = pd.DataFrame(data)\n",
        "\n",
        "new_row = {\"Name\": \"Kalam\", 'Age': 35}\n",
        "\n",
        "insert_index = 1\n",
        "\n",
        "df.loc[insert_index] = new_row\n",
        "\n",
        "print(df)\n",
        "\n",
        "\n",
        "# viii) Create a list from rows in Pandas dataframe\n",
        "import pandas as pd\n",
        "\n",
        "data = {\"Name\": [\"Rahim\", \"Karim\", \"Jamal\"],\n",
        "        \"Age\": [35, 30, 22]}\n",
        "df = pd.DataFrame(data)\n",
        "\n",
        "rows_list = df.values.tolist()\n",
        "\n",
        "print(rows_list)\n",
        "\n",
        "# ix) Ranking Rows of Pandas DataFrame\n",
        "import pandas as pd\n",
        "\n",
        "data = {\"Name\": [\"Rahim\", \"Karim\", \"Jamal\"],\n",
        "        \"Age\": [35, 30, 22]}\n",
        "df = pd.DataFrame(data)\n",
        "\n",
        "df[\"Rank\"] = df[\"Age\"].rank()\n",
        "print(df)\n",
        "\n",
        "# x) Sorting rows in pandas DataFrame\n",
        "import pandas as pd\n",
        "\n",
        "data = {\"Name\": [\"Rahim\", \"Karim\", \"Jamal\"],\n",
        "        \"Age\": [35, 30, 22]}\n",
        "df = pd.DataFrame(data)\n",
        "\n",
        "sorted_df = df.sort_values(\"Age\", ascending=True)\n",
        "print(sorted_df)\n",
        "\n",
        "# xi) Select row with maximum and minimum value in Pandas dataframe\n",
        "import pandas as pd\n",
        "\n",
        "data = {\"Name\": [\"Rahim\", \"Karim\", \"Jamal\"],\n",
        "        \"Age\": [35, 30, 22]}\n",
        "df = pd.DataFrame(data)\n",
        "\n",
        "max_row = df.loc[df[\"Age\"].idxmax()]\n",
        "\n",
        "min_row = df.loc[df[\"Age\"].idxmin()]\n",
        "\n",
        "print(\"Row with maximum age:\")\n",
        "print(max_row)\n",
        "print(\"\\nRow with minimum age:\")\n",
        "print(min_row)\n",
        "\n",
        "# xii) Get all rows in a Pandas DataFrame containing given substring\n",
        "import pandas as pd\n",
        "\n",
        "data = {\"Name\": [\"Rahim\", \"Karim\", \"Jamal\"],\n",
        "        \"Age\": [35, 30, 22]}\n",
        "df = pd.DataFrame(data)\n",
        "\n",
        "substring = 'i'\n",
        "subset = df[df.astype(str).apply(lambda x: x.str.contains(substring)).any(axis=1)]\n",
        "\n",
        "print(subset)\n",
        "\n",
        "# xiii) Convert a column to row name/index in Pandas\n",
        "import pandas as pd\n",
        "\n",
        "data = {\"Name\": [\"Rahim\", \"Karim\", \"Jamal\"],\n",
        "        \"Age\": [35, 30, 22]}\n",
        "df = pd.DataFrame(data)\n",
        "\n",
        "df = df.set_index(\"Name\")\n",
        "\n",
        "print(df)\n",
        "\n",
        "\n",
        "# xiv) How to randomly select rows from Pandas DataFrame\n",
        "import pandas as pd\n",
        "\n",
        "data = {\"Name\": [\"Rahim\", \"Karim\", \"Jamal\"],\n",
        "        \"Age\": [35, 30, 22]}\n",
        "df = pd.DataFrame(data)\n",
        "\n",
        "random_rows = df.sample(n=2, replace=False)\n",
        "\n",
        "print(random_rows)\n"
      ]
    },
    {
      "cell_type": "code",
      "execution_count": 6,
      "id": "e1310a2f",
      "metadata": {
        "colab": {
          "base_uri": "https://localhost:8080/"
        },
        "id": "e1310a2f",
        "outputId": "442a68bf-2c30-4113-9cc6-87a980421aab"
      },
      "outputs": [
        {
          "output_type": "stream",
          "name": "stdout",
          "text": [
            "[['John', 25], ['Alice', 30], ['Bob', 22]]\n"
          ]
        }
      ],
      "source": [
        "import pandas as pd\n",
        "\n",
        "# Create a sample DataFrame\n",
        "data = {'Name': ['John', 'Alice', 'Bob'],\n",
        "        'Age': [25, 30, 22]}\n",
        "df = pd.DataFrame(data)\n",
        "\n",
        "# Convert DataFrame rows to a list\n",
        "rows_list = df.values.tolist()\n",
        "\n",
        "print(rows_list)\n",
        "\n"
      ]
    },
    {
      "cell_type": "markdown",
      "id": "63261ff3",
      "metadata": {
        "id": "63261ff3"
      },
      "source": [
        "## 8.    Pandas Daraftame Columns Exercises"
      ]
    },
    {
      "cell_type": "code",
      "execution_count": 4,
      "id": "e36c0f49",
      "metadata": {
        "colab": {
          "base_uri": "https://localhost:8080/"
        },
        "id": "e36c0f49",
        "outputId": "519fd7ed-0c33-4314-bb62-0c7e33eb2239"
      },
      "outputs": [
        {
          "output_type": "stream",
          "name": "stdout",
          "text": [
            "    Name  New_Column\n",
            "0  Rahim           3\n",
            "1  Karim           3\n",
            "2  Jamal           3\n",
            "Index(['A', 'B', 'C'], dtype='object')\n",
            "['A' 'B' 'C']\n",
            "   Column1  Column2  Column3\n",
            "0        1        4        7\n",
            "1        2        5        8\n",
            "2        3        6        9\n",
            "[1 2 3 4]\n",
            "['B', 'C', 'A', 'D']\n",
            "Index label with maximum score: 1\n",
            "Index label with minimum age: 2\n",
            "    Name  Age  Score  NewColumn\n",
            "0  Rahim   25     85        110\n",
            "1  Karim   30     92        122\n",
            "2  Jamal   22     88        110\n",
            "3  Kabir   35     78        113\n",
            "    Name  Age  Score NewColumn\n",
            "0  Rahim   25     85       Low\n",
            "1  Karim   30     92      High\n",
            "2  Jamal   22     88       Low\n",
            "3  Kabir   35     78       Low\n",
            "['Rahim' 'Karim' 'Jamal' 'Kabir']\n",
            "Rahim    1\n",
            "Karim    1\n",
            "Jamal    1\n",
            "Kabir    1\n",
            "Name: Name, dtype: int64\n",
            "             Name First Name Last Name\n",
            "0  Mashiur Rahman    Mashiur    Rahman\n",
            "1   Rakibul Islam    Rakibul     Islam\n",
            "2    Nazrul Islam     Nazrul     Islam\n",
            "Index of minimum score: 3\n",
            "Index of minimum score: 1\n",
            "    A   B  Difference\n",
            "0  10   5           5\n",
            "1  20  10          10\n",
            "2  30  15          15\n",
            "3  40  20          20\n",
            "1    92\n",
            "2    88\n",
            "Name: Score, dtype: int64\n",
            "3    78\n",
            "0    85\n",
            "Name: Score, dtype: int64\n",
            "    Name  Age\n",
            "0  Rahim   25\n",
            "1  Karim   30\n",
            "2  Jamal   22\n",
            "3  Kabir   35\n"
          ]
        }
      ],
      "source": [
        "# i) Create a pandas column using for loop\n",
        "import pandas as pd\n",
        "\n",
        "df = pd.DataFrame({\"Name\": [\"Rahim\", \"Karim\", \"Jamal\"]})\n",
        "\n",
        "values = [1, 2, 3]\n",
        "\n",
        "for i in range(len(values)):\n",
        "    df[\"New_Column\"] = values[i]\n",
        "\n",
        "df[\"New_Column\"] = df[\"New_Column\"].astype(int)\n",
        "\n",
        "# Print the DataFrame\n",
        "print(df)\n",
        "\n",
        "\n",
        "# ii) How to get column names in Pandas dataframe\n",
        "import pandas as pd\n",
        "\n",
        "data = {'A': [1, 2, 3],\n",
        "        'B': [4, 5, 6],\n",
        "        'C': [7, 8, 9]}\n",
        "df = pd.DataFrame(data)\n",
        "\n",
        "column_names = df.columns\n",
        "print(column_names)\n",
        "\n",
        "column_names_array = df.columns.values\n",
        "print(column_names_array)\n",
        "\n",
        "# iii) How to rename columns in Pandas DataFrame\n",
        "import pandas as pd\n",
        "\n",
        "data = {'A': [1, 2, 3],\n",
        "        'B': [4, 5, 6],\n",
        "        'C': [7, 8, 9]}\n",
        "df = pd.DataFrame(data)\n",
        "\n",
        "df = df.rename(columns={'A': 'Column1', 'B': 'Column2', 'C': 'Column3'})\n",
        "print(df)\n",
        "\n",
        "# iv) Get unique values from a column in Pandas DataFrame\n",
        "import pandas as pd\n",
        "\n",
        "data = {'Column1': [1, 2, 3, 2, 3, 4],\n",
        "        'Column2': ['A', 'B', 'C', 'B', 'C', 'D']}\n",
        "df = pd.DataFrame(data)\n",
        "\n",
        "unique_values = df['Column1'].unique()\n",
        "print(unique_values)\n",
        "\n",
        "unique_values = df['Column2'].value_counts().index.tolist()\n",
        "print(unique_values)\n",
        "\n",
        "# v) Return the Index label if some condition is satisfied over a column in Pandas Dataframe\n",
        "import pandas as pd\n",
        "\n",
        "data = {\"Name\": [\"Rahim\", \"Karim\", \"Jamal\", \"Kabir\"],\n",
        "        \"Age\": [25, 30, 22, 35],\n",
        "        \"Score\": [85, 92, 88, 78]}\n",
        "df = pd.DataFrame(data)\n",
        "\n",
        "max_score_index = df[\"Score\"].idxmax()\n",
        "print(\"Index label with maximum score:\", max_score_index)\n",
        "\n",
        "min_age_index = df[\"Age\"].idxmin()\n",
        "print(\"Index label with minimum age:\", min_age_index)\n",
        "\n",
        "\n",
        "# vi) Create a new column in Pandas DataFrame based on the existing columns\n",
        "import pandas as pd\n",
        "\n",
        "data = {\"Name\": [\"Rahim\", \"Karim\", \"Jamal\", \"Kabir\"],\n",
        "        \"Age\": [25, 30, 22, 35],\n",
        "        \"Score\": [85, 92, 88, 78]}\n",
        "df = pd.DataFrame(data)\n",
        "\n",
        "df[\"NewColumn\"] = df[\"Age\"] + df[\"Score\"]\n",
        "print(df)\n",
        "\n",
        "\n",
        "# vii) Creating a Pandas dataframe column based on a given condition\n",
        "import pandas as pd\n",
        "import numpy as np\n",
        "\n",
        "data = {\"Name\": [\"Rahim\", \"Karim\", \"Jamal\", \"Kabir\"],\n",
        "        \"Age\": [25, 30, 22, 35],\n",
        "        \"Score\": [85, 92, 88, 78]}\n",
        "df = pd.DataFrame(data)\n",
        "\n",
        "df[\"NewColumn\"] = np.where(df[\"Score\"] > 90, \"High\", \"Low\")\n",
        "print(df)\n",
        "\n",
        "# viii) Getting Unique values from a column in Pandas dataframe\n",
        "import pandas as pd\n",
        "\n",
        "data = {\"Name\": [\"Rahim\", \"Karim\", \"Jamal\", \"Kabir\"],\n",
        "        \"Age\": [25, 30, 22, 35],\n",
        "        \"Score\": [85, 92, 88, 78]}\n",
        "df = pd.DataFrame(data)\n",
        "unique_names = df[\"Name\"].unique()\n",
        "print(unique_names)\n",
        "\n",
        "# ix) Getting frequency counts of a columns in Pandas DataFrame\n",
        "import pandas as pd\n",
        "\n",
        "data = {\"Name\": [\"Rahim\", \"Karim\", \"Jamal\", \"Kabir\"],\n",
        "        \"Age\": [25, 30, 22, 35],\n",
        "        \"Score\": [85, 92, 88, 78]}\n",
        "df = pd.DataFrame(data)\n",
        "name_counts = df[\"Name\"].value_counts()\n",
        "print(name_counts)\n",
        "\n",
        "# x) Split a text column into two columns in Pandas DataFrame\n",
        "import pandas as pd\n",
        "\n",
        "data = {\"Name\": [\"Mashiur Rahman\", \"Rakibul Islam\", \"Nazrul Islam\"]}\n",
        "df = pd.DataFrame(data)\n",
        "\n",
        "df[['First Name', 'Last Name']] = df['Name'].str.split(pat=' ', n=1, expand=True)\n",
        "print(df)\n",
        "\n",
        "\n",
        "# xi) Get the index of minimum value in DataFrame column\n",
        "import pandas as pd\n",
        "\n",
        "data = {\"Name\": [\"Rahim\", \"Karim\", \"Jamal\", \"Kabir\"],\n",
        "        \"Age\": [25, 30, 22, 35],\n",
        "        \"Score\": [85, 92, 88, 78]}\n",
        "df = pd.DataFrame(data)\n",
        "\n",
        "min_score_index = df[\"Score\"].idxmin()\n",
        "print(\"Index of minimum score:\", min_score_index)\n",
        "\n",
        "# xii) Get the index of maximum value in DataFrame column\n",
        "data = {\"Name\": [\"Rahim\", \"Karim\", \"Jamal\", \"Kabir\"],\n",
        "        \"Age\": [25, 30, 22, 35],\n",
        "        \"Score\": [85, 92, 88, 78]}\n",
        "df = pd.DataFrame(data)\n",
        "\n",
        "max_score_index = df[\"Score\"].idxmax()\n",
        "print(\"Index of minimum score:\", max_score_index)\n",
        "\n",
        "# xiii) Difference of two columns in Pandas dataframe\n",
        "import pandas as pd\n",
        "\n",
        "data = {'A': [10, 20, 30, 40],\n",
        "        'B': [5, 10, 15, 20]}\n",
        "df = pd.DataFrame(data)\n",
        "\n",
        "df['Difference'] = df['A'] - df['B']\n",
        "print(df)\n",
        "\n",
        "# xiv) Get n-largest values from a particular column in Pandas DataFrame\n",
        "import pandas as pd\n",
        "\n",
        "data = {\"Name\": [\"Rahim\", \"Karim\", \"Jamal\", \"Kabir\"],\n",
        "        \"Age\": [25, 30, 22, 35],\n",
        "        \"Score\": [85, 92, 88, 78]}\n",
        "df = pd.DataFrame(data)\n",
        "\n",
        "n_largest_values = df[\"Score\"].nlargest(2)\n",
        "print(n_largest_values)\n",
        "\n",
        "# xv) Get n-smallest values from a particular column in Pandas DataFrame\n",
        "import pandas as pd\n",
        "\n",
        "data = {\"Name\": [\"Rahim\", \"Karim\", \"Jamal\", \"Kabir\"],\n",
        "        \"Age\": [25, 30, 22, 35],\n",
        "        \"Score\": [85, 92, 88, 78]}\n",
        "df = pd.DataFrame(data)\n",
        "\n",
        "n_smallest_values = df[\"Score\"].nsmallest(2)\n",
        "print(n_smallest_values)\n",
        "\n",
        "# xvi) How to drop one or multiple columns in Pandas Dataframe\n",
        "import pandas as pd\n",
        "\n",
        "data = {\"Name\": [\"Rahim\", \"Karim\", \"Jamal\", \"Kabir\"],\n",
        "        \"Age\": [25, 30, 22, 35],\n",
        "        \"Score\": [85, 92, 88, 78]}\n",
        "df = pd.DataFrame(data)\n",
        "df = df.drop(columns=\"Score\")\n",
        "print(df)"
      ]
    },
    {
      "cell_type": "markdown",
      "id": "761a6c8c",
      "metadata": {
        "id": "761a6c8c"
      },
      "source": [
        "## 9.    Pandas Series –  Practice Exercise"
      ]
    },
    {
      "cell_type": "code",
      "execution_count": 2,
      "id": "efe3c132",
      "metadata": {
        "colab": {
          "base_uri": "https://localhost:8080/"
        },
        "id": "efe3c132",
        "outputId": "faeec954-6e44-4e0a-e57d-42ec2dde250f"
      },
      "outputs": [
        {
          "output_type": "stream",
          "name": "stdout",
          "text": [
            "0    1\n",
            "1    2\n",
            "2    3\n",
            "3    4\n",
            "4    5\n",
            "dtype: int64\n",
            "A    10\n",
            "B    20\n",
            "C    30\n",
            "D    40\n",
            "dtype: int64\n",
            "A    10\n",
            "B    20\n",
            "C    30\n",
            "D    40\n",
            "dtype: int64\n",
            "0    0\n",
            "1    1\n",
            "2    2\n",
            "3    3\n",
            "4    4\n",
            "5    5\n",
            "6    6\n",
            "7    7\n",
            "8    8\n",
            "9    9\n",
            "dtype: int64\n",
            "20\n",
            "A    10\n",
            "C    30\n",
            "E    50\n",
            "dtype: int64\n",
            "10\n",
            "B    20\n",
            "C    30\n",
            "D    40\n",
            "dtype: int64\n"
          ]
        }
      ],
      "source": [
        "# i) Create a Pandas Series from array\n",
        "import pandas as pd\n",
        "import numpy as np\n",
        "\n",
        "array = np.array([1, 2, 3, 4, 5])\n",
        "series = pd.Series(array)\n",
        "\n",
        "print(series)\n",
        "\n",
        "# ii) Creating a Pandas Series from Dictionary\n",
        "import pandas as pd\n",
        "\n",
        "data = {'A': 10, 'B': 20, 'C': 30, 'D': 40}\n",
        "\n",
        "series = pd.Series(data)\n",
        "\n",
        "print(series)\n",
        "\n",
        "# iii) Creating a Pandas Series from Lists\n",
        "import pandas as pd\n",
        "\n",
        "labels = ['A', 'B', 'C', 'D']\n",
        "values = [10, 20, 30, 40]\n",
        "\n",
        "series = pd.Series(values, index=labels)\n",
        "\n",
        "print(series)\n",
        "\n",
        "# iv) Create Pandas Series using NumPy functions\n",
        "import pandas as pd\n",
        "import numpy as np\n",
        "\n",
        "series = pd.Series(np.arange(10))\n",
        "\n",
        "print(series)\n",
        "\n",
        "# Access the elements of a Series in Pandas\n",
        "import pandas as pd\n",
        "\n",
        "series = pd.Series([10, 20, 30, 40, 50], index=['A', 'B', 'C', 'D', 'E'])\n",
        "\n",
        "print(series['B'])  # Output: 20\n",
        "\n",
        "print(series[['A', 'C', 'E']])  # Output: \n",
        "\n",
        "print(series[0])  # Output: 10\n",
        "print(series[1:4])  # Output: \n"
      ]
    },
    {
      "cell_type": "code",
      "execution_count": 3,
      "id": "70494191",
      "metadata": {
        "colab": {
          "base_uri": "https://localhost:8080/"
        },
        "id": "70494191",
        "outputId": "887bb110-d34e-4ea2-d1a1-a993ea8fbe75"
      },
      "outputs": [
        {
          "output_type": "stream",
          "name": "stdout",
          "text": [
            "1\n",
            "1\n",
            "1\n"
          ]
        }
      ],
      "source": [
        "import pandas as pd\n",
        "\n",
        "# Create a Series\n",
        "s = pd.Series([1, 2, 3, 4, 5], index=[\"a\", \"b\", \"c\", \"d\", \"e\"])\n",
        "\n",
        "# Access the first element by index\n",
        "print(s[0])\n",
        "# Output: 1\n",
        "\n",
        "# Access the first element by name\n",
        "print(s.loc[\"a\"])\n",
        "# Output: 1\n",
        "\n",
        "# Access the first element by position\n",
        "print(s.iloc[0])\n",
        "# Output: 1\n"
      ]
    },
    {
      "cell_type": "markdown",
      "id": "5e061952",
      "metadata": {
        "id": "5e061952"
      },
      "source": [
        "## 10.   Pandas Datetime Exercises"
      ]
    },
    {
      "cell_type": "code",
      "execution_count": 1,
      "id": "dd9844f0",
      "metadata": {
        "scrolled": true,
        "colab": {
          "base_uri": "https://localhost:8080/"
        },
        "id": "dd9844f0",
        "outputId": "6339fe0e-78d3-4e51-d7f8-030b15ecb40f"
      },
      "outputs": [
        {
          "output_type": "stream",
          "name": "stdout",
          "text": [
            "Date    datetime64[ns]\n",
            "dtype: object\n",
            "        Date\n",
            "0 2022-01-01\n",
            "1 2022-01-02\n",
            "2 2022-01-03\n"
          ]
        }
      ],
      "source": [
        "# Convert the column type from string to datetime format in Pandas dataframe\n",
        "import pandas as pd\n",
        "\n",
        "data = {'Date': ['2022-01-01', '2022-01-02', '2022-01-03']}\n",
        "df = pd.DataFrame(data)\n",
        "\n",
        "df['Date'] = pd.to_datetime(df['Date'])\n",
        "\n",
        "print(df.dtypes)\n",
        "print(df)\n"
      ]
    },
    {
      "cell_type": "code",
      "execution_count": 1,
      "id": "64e9d95b",
      "metadata": {
        "id": "64e9d95b"
      },
      "outputs": [],
      "source": []
    }
  ],
  "metadata": {
    "kernelspec": {
      "display_name": "Python 3 (ipykernel)",
      "language": "python",
      "name": "python3"
    },
    "language_info": {
      "codemirror_mode": {
        "name": "ipython",
        "version": 3
      },
      "file_extension": ".py",
      "mimetype": "text/x-python",
      "name": "python",
      "nbconvert_exporter": "python",
      "pygments_lexer": "ipython3",
      "version": "3.10.9"
    },
    "colab": {
      "provenance": [],
      "include_colab_link": true
    }
  },
  "nbformat": 4,
  "nbformat_minor": 5
}