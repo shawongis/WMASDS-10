{
  "cells": [
    {
      "cell_type": "markdown",
      "metadata": {
        "id": "view-in-github",
        "colab_type": "text"
      },
      "source": [
        "<a href=\"https://colab.research.google.com/github/shawongis/WMASDS-10/blob/main/WMASDS-10%3A%20Section-B%3A%20Assignment_1086.ipynb\" target=\"_parent\"><img src=\"https://colab.research.google.com/assets/colab-badge.svg\" alt=\"Open In Colab\"/></a>"
      ]
    },
    {
      "cell_type": "markdown",
      "id": "2d54ff76",
      "metadata": {
        "id": "2d54ff76"
      },
      "source": [
        "# WMASDS-10:Section-B (Assignment-1) \n",
        "## (Md. Islamul Haque Shawon: 1086)"
      ]
    },
    {
      "cell_type": "markdown",
      "id": "8bad33fa",
      "metadata": {
        "id": "8bad33fa"
      },
      "source": [
        "### Python: Variables"
      ]
    },
    {
      "cell_type": "code",
      "execution_count": 1,
      "id": "a8214ae1",
      "metadata": {
        "colab": {
          "base_uri": "https://localhost:8080/"
        },
        "id": "a8214ae1",
        "outputId": "1e0b253b-736e-4318-cd85-8d9cc965736f"
      },
      "outputs": [
        {
          "output_type": "stream",
          "name": "stdout",
          "text": [
            "Enter a number: 10\n",
            "Data type of x: <class 'str'>\n",
            "Data type of y: <class 'int'>\n",
            "Data type of z: <class 'float'>\n"
          ]
        }
      ],
      "source": [
        "#a) Use input( ) function to accept numbers from user as a value of a variable x.\n",
        "x = input(\"Enter a number: \")\n",
        "\n",
        "#b) Check the data type using type( ) function.\n",
        "x_type = type(x)\n",
        "print(\"Data type of x:\", x_type)\n",
        "\n",
        "#c) Also convert the data type to integer and assign to the variable y.\n",
        "y = int(x)\n",
        "y_type = type(y)\n",
        "print(\"Data type of y:\", y_type)\n",
        "\n",
        "#d) Convert the data type into float and assign to the variable z .\n",
        "#e) display the data type of x, y, and\n",
        "z = float(x)\n",
        "z_type = type(z)\n",
        "print(\"Data type of z:\", z_type)"
      ]
    },
    {
      "cell_type": "markdown",
      "id": "a574fd0f",
      "metadata": {
        "id": "a574fd0f"
      },
      "source": [
        "### Strings in Python"
      ]
    },
    {
      "cell_type": "code",
      "execution_count": 2,
      "id": "9db5d354",
      "metadata": {
        "colab": {
          "base_uri": "https://localhost:8080/"
        },
        "id": "9db5d354",
        "outputId": "1586a49e-c297-407c-932b-cca4062e481b"
      },
      "outputs": [
        {
          "output_type": "stream",
          "name": "stdout",
          "text": [
            "Enter a string: 30\n",
            "Length of the string: 2\n",
            "Enter a string: 10\n",
            "Number of characters in the string: 2\n",
            "Enter a string: shawon\n",
            "Enter the index of the character to remove: 10\n",
            "String after removing the kth index character: shawon\n",
            "Enter a string: 10\n",
            "String after removing characters with odd index values: 1\n",
            "Enter a string: 5\n",
            "Input in uppercase: 5\n",
            "Input in lowercase: 5\n",
            "Enter a string: 5\n",
            "Reversed string: 5\n",
            "Enter a string: shawon\n",
            "String converted to a list: ['s', 'h', 'a', 'w', 'o', 'n']\n"
          ]
        }
      ],
      "source": [
        "#a) Write a Python program to calculate the length of a string.\n",
        "string = input(\"Enter a string: \")\n",
        "length = len(string)\n",
        "print(\"Length of the string:\", length)\n",
        "\n",
        "#b) Write a Python program to count the number of characters in a string.\n",
        "string = input(\"Enter a string: \")\n",
        "count = len(string)\n",
        "print(\"Number of characters in the string:\", count)\n",
        "\n",
        "#c) Write a Python program to remove the kth index character from a string.\n",
        "string = input(\"Enter a string: \")\n",
        "k = int(input(\"Enter the index of the character to remove: \"))\n",
        "removed_string = string[:k] + string[k+1:]\n",
        "print(\"String after removing the kth index character:\", removed_string)\n",
        "\n",
        "#d) Write a Python program to remove the characters which have odd index values of a given string.\n",
        "string = input(\"Enter a string: \")\n",
        "new_string = string[::2]\n",
        "print(\"String after removing characters with odd index values:\", new_string)\n",
        "\n",
        "#e) Write a Python script that takes input from the user and displays that input back in upper and lower cases.\n",
        "user_input = input(\"Enter a string: \")\n",
        "print(\"Input in uppercase:\", user_input.upper())\n",
        "print(\"Input in lowercase:\", user_input.lower())\n",
        "\n",
        "#f) Write a Python program to sort a string\n",
        "#g) Write a Python program to reverse a string.\n",
        "string = input(\"Enter a string: \")\n",
        "reversed_string = string[::-1]\n",
        "print(\"Reversed string:\", reversed_string)\n",
        "\n",
        "#h) Write a Python program to convert a given string into a list.\n",
        "string = input(\"Enter a string: \")\n",
        "string_list = list(string)\n",
        "print(\"String converted to a list:\", string_list)"
      ]
    },
    {
      "cell_type": "code",
      "execution_count": 3,
      "id": "2097ee3a",
      "metadata": {
        "colab": {
          "base_uri": "https://localhost:8080/"
        },
        "id": "2097ee3a",
        "outputId": "7221d46a-4e3c-48e7-dfb9-df7ca3d209d1"
      },
      "outputs": [
        {
          "output_type": "stream",
          "name": "stdout",
          "text": [
            "Sum: 15\n",
            "Largest number: 9\n",
            "Smallest number: 1\n",
            "Selected even numbers: [2, 4, 6, 8]\n",
            "Selected odd numbers: [1, 3, 5, 7, 9]\n",
            "Converted string: SHAWON\n",
            "Index of orange : 2\n",
            "Combined list: [1, 2, 3, 4, 5, 6]\n",
            "Unique values: [1, 2, 3, 4, 5]\n",
            "Count of unique values: 5\n",
            "Frequency of elements: {1: 2, 2: 3, 3: 2, 4: 1, 5: 2}\n",
            "Original list : [4, 6, 4, 3, 3, 4, 3, 7, 8, 8]\n",
            "The Required Elements : [4, 3]\n",
            "[5, 4, 3, 2, 1]\n"
          ]
        }
      ],
      "source": [
        "#a) Write a Python program to sum (or product) all the items in a list\n",
        "my_list = [1, 2, 3, 4, 5]\n",
        "result = sum(my_list)\n",
        "print(\"Sum:\", result)\n",
        "\n",
        "\n",
        "#b) Write a Python program to get the largest/smallest number from a list\n",
        "my_list = [5, 2, 8, 1, 9]\n",
        "largest_num = max(my_list)\n",
        "smallest_num = min(my_list)\n",
        "print(\"Largest number:\", largest_num)\n",
        "print(\"Smallest number:\", smallest_num)\n",
        "\n",
        "\n",
        "# Example usage\n",
        "my_list = [1, 2, 3, 4, 5, 6, 7, 8, 9]\n",
        "even_no = list(filter(lambda x: (x % 2 == 0), my_list))\n",
        "print(\"Selected even numbers:\", even_no)\n",
        "\n",
        "\n",
        "#c) Write a Python program to print the numbers of a specified list after removing even numbers from it\n",
        "#d) Write a Python program to select the odd number of a list\n",
        "my_list = [1, 2, 3, 4, 5, 6, 7, 8, 9]\n",
        "odd_no = list(filter(lambda x: (x % 2 != 0), my_list))\n",
        "print(\"Selected odd numbers:\", odd_no)\n",
        "\n",
        "#e) Write a Python program to convert a list of characters into a string\n",
        "char_list = ['S', 'H', 'A', 'W', 'O', 'N']\n",
        "string = ''.join(char_list)\n",
        "print(\"Converted string:\", string)\n",
        "\n",
        "#f) Write a Python program to find the index of an item in a specified list\n",
        "my_list = ['apple', 'banana', 'orange', 'grape']\n",
        "item = 'orange'\n",
        "index = my_list.index(item)\n",
        "print(\"Index of\", item, \":\", index)\n",
        "\n",
        "#g) Write a Python program to add a list to the second list\n",
        "list1 = [1, 2, 3]\n",
        "list2 = [4, 5, 6]\n",
        "list3 = list1+list2\n",
        "print(\"Combined list:\", list3)\n",
        "\n",
        "#h) Write a Python program to get unique values from a list and to count unique values inside a list. Also get the frequency of the elements in the list.\n",
        "my_list = [1, 2, 3, 2, 4, 3, 5, 1, 2, 5]\n",
        "unique_values = list(set(my_list))\n",
        "unique_count = len(unique_values)\n",
        "\n",
        "import collections \n",
        "frequency = collections.Counter(my_list)\n",
        "\n",
        "print(\"Unique values:\", unique_values)\n",
        "print(\"Count of unique values:\", unique_count)\n",
        "print(\"Frequency of elements:\", dict(frequency))\n",
        "\n",
        "#i) Write a Python Program to Extract elements with Frequency greater than K\n",
        "a = [4, 6, 4, 3, 3, 4, 3, 7, 8, 8]\n",
        "print(\"Original list : \" + str(a))\n",
        "K = 2\n",
        " \n",
        "res = []\n",
        "for i in a:\t\n",
        "\tfreq = a.count(i)\n",
        "\tif freq > K and i not in res:\n",
        "\t\tres.append(i)\n",
        " \n",
        "print(\"The Required Elements : \" + str(res))\n",
        "\n",
        "#j)Write a Python program to reverse All Strings in String List\n",
        "my_list = [1, 2, 3, 4, 5]\n",
        "my_list.reverse()\n",
        "print(my_list)"
      ]
    },
    {
      "cell_type": "markdown",
      "id": "ca79dac0",
      "metadata": {
        "id": "ca79dac0"
      },
      "source": [
        "### Python : Dictionary"
      ]
    },
    {
      "cell_type": "code",
      "execution_count": 4,
      "id": "64c5570c",
      "metadata": {
        "colab": {
          "base_uri": "https://localhost:8080/"
        },
        "id": "64c5570c",
        "outputId": "f8681251-b6e6-4280-c882-ff10435a7b77"
      },
      "outputs": [
        {
          "output_type": "stream",
          "name": "stdout",
          "text": [
            "{'names': ['Mango', 'Lemon'], 'color': ['yellow', 'green'], 'taste': ['sweet', 'sour']}\n",
            "{'names': ['Mango', 'Lemon', 'Apple'], 'color': ['yellow', 'green'], 'taste': ['sweet', 'sour']}\n",
            "{'name': 'Mango', 'color': 'yellow', 'friuts': {'sweet', 'taste'}}\n",
            "Enter a key: 10\n",
            "The key does not exist in the dictionary.\n",
            "name\n",
            "name John Doe\n",
            "age 30\n",
            "{1: 1, 2: 4, 3: 9, 4: 16, 5: 25}\n",
            "dict_keys(['name', 'age'])\n",
            "1st dictionary {'shawon': 1, 'rakib': 2, 'saimun': 3, 'moshiur': 4}\n",
            "final dictionary {'shawon': 1, 'rakib': 2, 'saimun': 3, 'mashiur': 4}\n",
            "dict_keys(['names', 'color', 'taste'])\n",
            "dict_values([['Mango', 'Lemon'], ['yellow', 'green'], ['sweet', 'sour']])\n"
          ]
        }
      ],
      "source": [
        "## a) Write a Python script to create a dictionary \n",
        "#(i) Create a dictionary named fruit with keys: (names, color, taste). add Mango and Lemon as the value of key- names, yellow and green as the value of color, sweet and sour as the value of taste. \n",
        "#(ii) display the dictionary. (iii) add a new value, Apple in the names \n",
        "fruit = {\n",
        "    \"names\": [\"Mango\", \"Lemon\"],\n",
        "    \"color\": [\"yellow\", \"green\"],\n",
        "    \"taste\": [\"sweet\", \"sour\"],\n",
        "}\n",
        "print(fruit)\n",
        "fruit[\"names\"].append(\"Apple\")\n",
        "print(fruit)\n",
        "\n",
        "#Write a Python program to add a key to a dictionary\n",
        "my_dict = {'name': 'Mango', 'color': 'yellow'}\n",
        "my_dict['friuts'] = {'taste', 'sweet'}\n",
        "print(my_dict)\n",
        "\n",
        "#Write a Python program to check whether a given key already exists in a dictionary.\n",
        "my_dict = {\"name\": \"John Doe\", \"age\": 30}\n",
        "key = input(\"Enter a key: \")\n",
        "if key in my_dict:\n",
        "    print(\"The key exists in the dictionary.\")\n",
        "else:\n",
        "    print(\"The key does not exist in the dictionary.\")\n",
        "    \n",
        "#d) Access dictionary key’s element by index\n",
        "my_dict = {\"name\": \"John Doe\", \"age\": 30}\n",
        "keys = list(my_dict.keys())\n",
        "element = keys[0]\n",
        "print(element)\n",
        "\n",
        "#e) Write a Python program to iterate over dictionaries using for loops\n",
        "my_dict = {\"name\": \"John Doe\", \"age\": 30}\n",
        "for key, value in my_dict.items():\n",
        "    print(key, value)\n",
        "\n",
        "#f) Write a Python script to print a dictionary where the keys are numbers between 1 and n (both included) and the values are square of keys.    \n",
        "dict = {}\n",
        "for i in range(1, 6):\n",
        "    dict[i] = i ** 2\n",
        "print(dict)\n",
        "\n",
        "#g) Create a dictionary by extracting the keys from a given dictionary\n",
        "dict = {\"name\": \"John Doe\", \"age\": 30}\n",
        "keys = dict.keys()\n",
        "print(keys)\n",
        "\n",
        "#h) Write a Python program to Rename key of a dictionary\n",
        "my_dict = {'shawon': 1, 'rakib': 2,\n",
        "            'saimun': 3, 'moshiur': 4}\n",
        "print(\"1st dictionary\", my_dict)\n",
        "my_dict['mashiur'] = my_dict['moshiur']\n",
        "del my_dict['moshiur']\n",
        "print(\"final dictionary\", str(my_dict))\n",
        "\n",
        "#i) Write a program to print only keys of a dictionary\n",
        "fruit = {\n",
        "    \"names\": [\"Mango\", \"Lemon\"],\n",
        "    \"color\": [\"yellow\", \"green\"],\n",
        "    \"taste\": [\"sweet\", \"sour\"],\n",
        "}\n",
        "\n",
        "keys = fruit.keys()\n",
        "print(keys)\n",
        "\n",
        "#j) Write a program to print values of dictionary.\n",
        "fruit = {\n",
        "    \"names\": [\"Mango\", \"Lemon\"],\n",
        "    \"color\": [\"yellow\", \"green\"],\n",
        "    \"taste\": [\"sweet\", \"sour\"],\n",
        "}\n",
        "\n",
        "values = fruit.values()\n",
        "print(values)"
      ]
    },
    {
      "cell_type": "markdown",
      "id": "ff02ac2e",
      "metadata": {
        "id": "ff02ac2e"
      },
      "source": [
        "### Python: Loops"
      ]
    },
    {
      "cell_type": "code",
      "execution_count": 5,
      "id": "2c6b7ff1",
      "metadata": {
        "colab": {
          "base_uri": "https://localhost:8080/"
        },
        "id": "2c6b7ff1",
        "outputId": "4fa16df0-8012-4c6a-c165-427e3bb1e0c8"
      },
      "outputs": [
        {
          "output_type": "stream",
          "name": "stdout",
          "text": [
            "1\n",
            "2\n",
            "3\n",
            "4\n",
            "5\n",
            "6\n",
            "7\n",
            "8\n",
            "9\n",
            "10\n",
            "Enter a number: 10\n",
            "10 x 1 = 10\n",
            "10 x 2 = 20\n",
            "10 x 3 = 30\n",
            "10 x 4 = 40\n",
            "10 x 5 = 50\n",
            "10 x 6 = 60\n",
            "10 x 7 = 70\n",
            "10 x 8 = 80\n",
            "10 x 9 = 90\n",
            "10 x 10 = 100\n",
            "1\n",
            "2\n",
            "3\n",
            "4\n",
            "5\n",
            "5\n",
            "4\n",
            "3\n",
            "2\n",
            "1\n",
            "-10\n",
            "-9\n",
            "-8\n",
            "-7\n",
            "-6\n",
            "-5\n",
            "-4\n",
            "-3\n",
            "-2\n",
            "-1\n",
            "Enter a number: 10\n",
            "The factorial of 10 is 3628800\n",
            "1\n",
            "3\n",
            "5\n",
            "Enter a number: 10\n",
            "The cubes of all numbers from 1 to 10 are:\n",
            "1\n",
            "8\n",
            "27\n",
            "64\n",
            "125\n",
            "216\n",
            "343\n",
            "512\n",
            "729\n",
            "1000\n"
          ]
        }
      ],
      "source": [
        "#a) Print First 10 natural numbers using while loop\n",
        "i = 1\n",
        "while i <= 10:\n",
        "    print(i)\n",
        "    i += 1\n",
        "\n",
        "#b) Write a program to print multiplication table of a given number    \n",
        "number = int(input(\"Enter a number: \"))\n",
        "for i in range(1, 11):\n",
        "    print(number, \"x\", i, \"=\", number * i)\n",
        "    \n",
        "#c) Display numbers from a list using loop\n",
        "numbers = [1, 2, 3, 4, 5]\n",
        "for number in numbers:\n",
        "    print(number)\n",
        "    \n",
        "#d)Print list in reverse order using a loop\n",
        "numbers = [1, 2, 3, 4, 5]\n",
        "for i in range(len(numbers) - 1, -1, -1):\n",
        "    print(numbers[i])\n",
        "    \n",
        "#e) Display numbers from -10 to -1 using for loop    \n",
        "for i in range(-10, 0):\n",
        "    print(i)\n",
        "    \n",
        "#f) Find the factorial of a given number\n",
        "number = int(input(\"Enter a number: \"))\n",
        "factorial = 1\n",
        "for i in range(1, number + 1):\n",
        "    factorial *= i\n",
        "print(\"The factorial of\", number, \"is\", factorial)\n",
        "\n",
        "#g) Use a loop to display elements from a given list present at odd index positions\n",
        "numbers = [1, 2, 3, 4, 5]\n",
        "for i in range(0, len(numbers), 2):\n",
        "    print(numbers[i])\n",
        "    \n",
        "#h) Calculate the cube of all numbers from 1 to a given number\n",
        "number = int(input(\"Enter a number: \"))\n",
        "cubes = []\n",
        "for i in range(1, number + 1):\n",
        "    cubes.append(i ** 3)\n",
        "print(\"The cubes of all numbers from 1 to\", number, \"are:\")\n",
        "for cube in cubes:\n",
        "    print(cube)"
      ]
    },
    {
      "cell_type": "markdown",
      "id": "24dc94db",
      "metadata": {
        "id": "24dc94db"
      },
      "source": [
        "### Python: User-defined Functions"
      ]
    },
    {
      "cell_type": "code",
      "execution_count": null,
      "id": "14294946",
      "metadata": {
        "id": "14294946",
        "outputId": "3624a043-a36f-429f-e923-004f94037cd6"
      },
      "outputs": [
        {
          "name": "stdout",
          "output_type": "stream",
          "text": [
            "Unique digits in class ID: {'5', '9', '3', '8', '2', '0', '6', '4', '7', '1'}\n"
          ]
        }
      ],
      "source": [
        "#a) write a python program to create a function that will return a list of the unique digits in yourclass ID.\n",
        "def unique_digits_in_class_id(class_id):\n",
        "    class_id_str = str(class_id)\n",
        "    return set(character for character in class_id_str if character.isdigit())\n",
        "\n",
        "my_class_id = 1234567890\n",
        "unique_digits = unique_digits_in_class_id(my_class_id)\n",
        "print(\"Unique digits in class ID:\", unique_digits)"
      ]
    }
  ],
  "metadata": {
    "kernelspec": {
      "display_name": "Python 3 (ipykernel)",
      "language": "python",
      "name": "python3"
    },
    "language_info": {
      "codemirror_mode": {
        "name": "ipython",
        "version": 3
      },
      "file_extension": ".py",
      "mimetype": "text/x-python",
      "name": "python",
      "nbconvert_exporter": "python",
      "pygments_lexer": "ipython3",
      "version": "3.10.9"
    },
    "colab": {
      "provenance": [],
      "include_colab_link": true
    }
  },
  "nbformat": 4,
  "nbformat_minor": 5
}